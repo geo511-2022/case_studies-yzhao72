{
 "cells": [
  {
   "cell_type": "code",
   "execution_count": 58,
   "metadata": {
    "vscode": {
     "languageId": "r"
    }
   },
   "outputs": [
    {
     "data": {
      "text/html": [
       "4"
      ],
      "text/latex": [
       "4"
      ],
      "text/markdown": [
       "4"
      ],
      "text/plain": [
       "[1] 4"
      ]
     },
     "metadata": {},
     "output_type": "display_data"
    },
    {
     "name": "stdout",
     "output_type": "stream",
     "text": [
      "registerDoParallel         package:doParallel          R Documentation\n",
      "\n",
      "_\br_\be_\bg_\bi_\bs_\bt_\be_\br_\bD_\bo_\bP_\ba_\br_\ba_\bl_\bl_\be_\bl\n",
      "\n",
      "_\bD_\be_\bs_\bc_\br_\bi_\bp_\bt_\bi_\bo_\bn:\n",
      "\n",
      "     The 'registerDoParallel' function is used to register the parallel\n",
      "     backend with the 'foreach' package.\n",
      "\n",
      "_\bU_\bs_\ba_\bg_\be:\n",
      "\n",
      "     registerDoParallel(cl, cores=NULL, ...)\n",
      "     stopImplicitCluster()\n",
      "     \n",
      "_\bA_\br_\bg_\bu_\bm_\be_\bn_\bt_\bs:\n",
      "\n",
      "      cl: A cluster object as returned by 'makeCluster', or the number\n",
      "          of nodes to be created in the cluster. If not specified, on\n",
      "          Windows a three worker cluster is created and used.\n",
      "\n",
      "   cores: The number of cores to use for parallel execution. If not\n",
      "          specified, the number of cores is set to the value of\n",
      "          'options(\"cores\")', if specified, or to one-half the number\n",
      "          of cores detected by the 'parallel' package.\n",
      "\n",
      "     ...: Package options.  Currently, only the 'nocompile' option is\n",
      "          supported.  If 'nocompile' is set to 'TRUE', compiler support\n",
      "          is disabled.\n",
      "\n",
      "_\bD_\be_\bt_\ba_\bi_\bl_\bs:\n",
      "\n",
      "     The 'parallel' package from R 2.14.0 and later provides functions\n",
      "     for parallel execution of R code on machines with multiple cores\n",
      "     or processors or multiple computers.  It is essentially a blend of\n",
      "     the 'snow' and 'multicore' packages. By default, the 'doParallel'\n",
      "     package uses 'snow'-like functionality.  The 'snow'-like\n",
      "     functionality should work fine on Unix-like systems, but the\n",
      "     'multicore'-like functionality is limited to a single sequential\n",
      "     worker on Windows systems. On workstations with multiple cores\n",
      "     running Unix-like operating systems, the system 'fork' call is\n",
      "     used to spawn copies of the current process.\n",
      "\n",
      "     The 'doParallel' backend supports both multicore and snow options\n",
      "     passed through the 'foreach' function.  The supported multicore\n",
      "     options are 'preschedule', 'set.seed', 'silent', and 'cores',\n",
      "     which are analogous to the similarly named arguments to\n",
      "     'mclapply', and are passed using the '.options.multicore' argument\n",
      "     to 'foreach'. The supported snow options are 'preschedule', which\n",
      "     like its multicore analog can be used to chunk the tasks so that\n",
      "     each worker gets a prescheduled chunk of tasks, and\n",
      "     'attachExportEnv', which can be used to attach the export\n",
      "     environment in certain cases where R's lexical scoping is unable\n",
      "     to find a needed export. The snow options are passed to 'foreach'\n",
      "     using the '.options.snow' argument.\n",
      "\n",
      "     The function 'stopImplicitCluster' can be used in vignettes and\n",
      "     other places where it is important to explicitly close the\n",
      "     implicitly created cluster.\n",
      "\n",
      "_\bE_\bx_\ba_\bm_\bp_\bl_\be_\bs:\n",
      "\n",
      "     cl <- makePSOCKcluster(2)\n",
      "     registerDoParallel(cl)\n",
      "     m <- matrix(rnorm(9), 3, 3)\n",
      "     foreach(i=1:nrow(m), .combine=rbind) \n",
      "     stopCluster(cl)\n",
      "     "
     ]
    }
   ],
   "source": [
    "library(tidyverse)\n",
    "library(spData)\n",
    "library(sf)\n",
    "## New Packages\n",
    "library(mapview) # new package that makes easy leaflet maps\n",
    "library(foreach)\n",
    "library(doParallel)\n",
    "?registerDoParallel\n",
    "registerDoParallel(4)\n",
    "getDoParWorkers() # check registered cores"
   ]
  },
  {
   "cell_type": "code",
   "execution_count": 52,
   "metadata": {
    "vscode": {
     "languageId": "r"
    }
   },
   "outputs": [
    {
     "ename": "ERROR",
     "evalue": "Error: A CENSUS_API_KEY already exists. You can overwrite it with the argument overwrite=TRUE\n",
     "output_type": "error",
     "traceback": [
      "Error: A CENSUS_API_KEY already exists. You can overwrite it with the argument overwrite=TRUE\nTraceback:\n",
      "1. census_api_key(\"c8b944c15e4c18bb6e02e85bcf22f832edb4e577\", install = TRUE)",
      "2. stop(\"A CENSUS_API_KEY already exists. You can overwrite it with the argument overwrite=TRUE\", \n .     call. = FALSE)"
     ]
    }
   ],
   "source": [
    "# census API key can be obtained from: http://api.census.gov/data/key_signup.html\n",
    "census_api_key(\"c8b944c15e4c18bb6e02e85bcf22f832edb4e577\", install = TRUE)"
   ]
  },
  {
   "cell_type": "code",
   "execution_count": 59,
   "metadata": {
    "vscode": {
     "languageId": "r"
    }
   },
   "outputs": [],
   "source": [
    "readRenviron(\"~/.Renviron\")"
   ]
  },
  {
   "cell_type": "code",
   "execution_count": 60,
   "metadata": {
    "vscode": {
     "languageId": "r"
    }
   },
   "outputs": [
    {
     "name": "stderr",
     "output_type": "stream",
     "text": [
      "Getting data from the 2010 decennial Census\n",
      "\n",
      "Using Census Summary File 1\n",
      "\n",
      "Warning message:\n",
      "\"attribute variables are assumed to be spatially constant throughout all geometries\"\n"
     ]
    }
   ],
   "source": [
    "library(tidycensus)\n",
    "racevars <- c(White = \"P005003\", \n",
    "              Black = \"P005004\", \n",
    "              Asian = \"P005006\", \n",
    "              Hispanic = \"P004003\")\n",
    "options(tigris_use_cache = TRUE)\n",
    "erie <- get_decennial(geography = \"block\", variables = racevars, \n",
    "                  state = \"NY\", county = \"Erie County\", geometry = TRUE,\n",
    "                  summary_var = \"P001001\", cache_table=T) \n",
    "buff=st_crop(erie,c(xmin=-78.9,xmax=-78.85,ymin=42.888,ymax=42.92))"
   ]
  },
  {
   "cell_type": "code",
   "execution_count": 62,
   "metadata": {
    "vscode": {
     "languageId": "r"
    }
   },
   "outputs": [
    {
     "name": "stderr",
     "output_type": "stream",
     "text": [
      "Warning message in rm(i):\n",
      "\"object 'i' not found\"\n"
     ]
    },
    {
     "ename": "ERROR",
     "evalue": "Error in {: task 1 failed - \"could not find function \"%>%\"\"\n",
     "output_type": "error",
     "traceback": [
      "Error in {: task 1 failed - \"could not find function \"%>%\"\"\nTraceback:\n",
      "1. foreach(i = 1:4, .combine = rbind) %dopar% {\n .     buff %>% filter(variable == unique(buff$variable)[i]) %>% \n .         st_sample(size = .$value) %>% st_as_sf() %>% mutate(variable = unique(buff$variable)[i])\n . }",
      "2. e$fun(obj, substitute(ex), parent.frame(), e$data)"
     ]
    }
   ],
   "source": [
    "buff$variable=as.factor((buff$variable))\n",
    "variable_vec=as.array(unique(buff$variable))\n",
    "rm(i)\n",
    "points=foreach(i=1:4,.combine=rbind) %dopar%      \n",
    "  {buff%>%filter(variable==unique(buff$variable)[i])%>%st_sample(size=.$value)%>%st_as_sf()%>%mutate(variable=unique(buff$variable)[i])}"
   ]
  },
  {
   "cell_type": "code",
   "execution_count": 57,
   "metadata": {
    "vscode": {
     "languageId": "r"
    }
   },
   "outputs": [
    {
     "ename": "ERROR",
     "evalue": "Error in (function (classes, fdef, mtable) : unable to find an inherited method for function 'mapView' for signature '\"function\"'\n",
     "output_type": "error",
     "traceback": [
      "Error in (function (classes, fdef, mtable) : unable to find an inherited method for function 'mapView' for signature '\"function\"'\nTraceback:\n",
      "1. mapview(points, zcol = \"variable\", cex = 1, alpha = 0)",
      "2. standardGeneric(\"mapview\")",
      "3. eval(mc, env)",
      "4. eval(mc, env)",
      "5. mapview(...)",
      "6. mapView(...)",
      "7. (function (classes, fdef, mtable) \n . {\n .     methods <- .findInheritedMethods(classes, fdef, mtable)\n .     if (length(methods) == 1L) \n .         return(methods[[1L]])\n .     else if (length(methods) == 0L) {\n .         cnames <- paste0(\"\\\"\", vapply(classes, as.character, \n .             \"\"), \"\\\"\", collapse = \", \")\n .         stop(gettextf(\"unable to find an inherited method for function %s for signature %s\", \n .             sQuote(fdef@generic), sQuote(cnames)), domain = NA)\n .     }\n .     else stop(\"Internal error in finding inherited methods; didn't return a unique method\", \n .         domain = NA)\n . })(list(\"function\"), new(\"standardGeneric\", .Data = function (x, \n .     ...) \n . standardGeneric(\"mapView\"), generic = structure(\"mapView\", package = \"mapview\"), \n .     package = \"mapview\", group = list(), valueClass = character(0), \n .     signature = \"x\", default = NULL, skeleton = (function (x, \n .         ...) \n .     stop(gettextf(\"invalid call in method dispatch to '%s' (no default method)\", \n .         \"mapView\"), domain = NA))(x, ...)), <environment>)",
      "8. stop(gettextf(\"unable to find an inherited method for function %s for signature %s\", \n .     sQuote(fdef@generic), sQuote(cnames)), domain = NA)"
     ]
    }
   ],
   "source": [
    "mapview(points,zcol='variable',cex=1,alpha=0)"
   ]
  }
 ],
 "metadata": {
  "kernelspec": {
   "display_name": "R",
   "language": "R",
   "name": "ir"
  },
  "language_info": {
   "codemirror_mode": "r",
   "file_extension": ".r",
   "mimetype": "text/x-r-source",
   "name": "R",
   "pygments_lexer": "r",
   "version": "4.2.1"
  },
  "orig_nbformat": 4
 },
 "nbformat": 4,
 "nbformat_minor": 2
}
